{
 "cells": [
  {
   "cell_type": "code",
   "execution_count": 4,
   "source": [
    "import numpy as np\r\n",
    "import matplotlib.pyplot as plt\r\n",
    "from scipy.io import loadmat"
   ],
   "outputs": [],
   "metadata": {}
  },
  {
   "cell_type": "code",
   "execution_count": 5,
   "source": [
    "class KMeans():\r\n",
    "    \"\"\"Class implements Kmeans clustering alg.\"\"\"\r\n",
    "\r\n",
    "    def __init__(self, X, n_clusters, iters):\r\n",
    "        self.X = X\r\n",
    "        self.n_clusters = n_clusters\r\n",
    "        self.iters = iters\r\n",
    "\r\n",
    "    def initialize_centroids(self):\r\n",
    "        \"\"\"\r\n",
    "        Create cluster centroids using the k-means++ algorithm.\r\n",
    "        \"\"\"\r\n",
    "\r\n",
    "        centroids = [self.X[0]]\r\n",
    "\r\n",
    "        for _ in range(1, self.n_clusters):\r\n",
    "            dist_sq = np.array([min([np.inner(c-x,c-x) for c in centroids]) for x in self.X])\r\n",
    "            probs = dist_sq/dist_sq.sum()\r\n",
    "            cumulative_probs = probs.cumsum()\r\n",
    "            r = np.random.rand()\r\n",
    "            \r\n",
    "            for j, p in enumerate(cumulative_probs):\r\n",
    "                if r < p:\r\n",
    "                    i = j\r\n",
    "                    break\r\n",
    "            \r\n",
    "            centroids.append(self.X[i])\r\n",
    "\r\n",
    "        self.centroids = np.array(centroids)\r\n",
    "\r\n",
    "    def findClosestCentroids(self):\r\n",
    "        \"\"\"\r\n",
    "        Computes the centroid memberships for every example.\r\n",
    "        \"\"\"\r\n",
    "\r\n",
    "        n_samples = len(self.X)\r\n",
    "\r\n",
    "        # Initialize a 2D matrix to hold distance between each sample and each cluster\r\n",
    "        distance = np.zeros(shape=(n_samples, self.n_clusters))\r\n",
    "\r\n",
    "        # Compute distance between samples and each centroid\r\n",
    "        for k in range(len(self.centroids)):\r\n",
    "            # Subtract two vectors and compute 2nd norm to get distance\r\n",
    "            distance[:, k] = np.linalg.norm(self.X - self.centroids[k], ord=2, axis=1) \r\n",
    "\r\n",
    "        # Cluster points to centroids with minimum distances\r\n",
    "        self.idx = np.argmin(distance, axis=1)\r\n",
    "        \r\n",
    "    def computeCentroids(self):\r\n",
    "        \"\"\"\r\n",
    "        Returns the new centroids by computing the means of the data points\r\n",
    "        assigned to each centroid.\r\n",
    "        \"\"\"\r\n",
    "\r\n",
    "        for k in range(self.n_clusters):\r\n",
    "            mask = (self.idx == k)\r\n",
    "            self.centroids[k, :] = np.sum(self.X[mask, :], axis=0) / np.sum(mask)\r\n",
    "\r\n",
    "    def fit(self):\r\n",
    "        \"\"\"Cluster dataset\"\"\"\r\n",
    "        self.initialize_centroids()\r\n",
    "\r\n",
    "        # Perform Kmeans\r\n",
    "        for i in range(self.iters):\r\n",
    "            # Find the closest centroids for the examples using the initial_centroids\r\n",
    "            self.findClosestCentroids()\r\n",
    "            # Compute means based on the closest centroids found in the previous part.\r\n",
    "            self.computeCentroids() \r\n",
    "        \r\n",
    "        # Compute inertia\r\n",
    "        inertia = []\r\n",
    "        for i in range(self.n_clusters):\r\n",
    "            mask = (self.idx == i)\r\n",
    "            inertia.append(np.sum(np.linalg.norm(self.X[mask] - self.centroids[i], axis=1)))\r\n",
    "\r\n",
    "        self.inertia = np.mean(inertia)"
   ],
   "outputs": [],
   "metadata": {}
  },
  {
   "cell_type": "code",
   "execution_count": 6,
   "source": [
    "# Load an example dataset that we will be using\r\n",
    "data = loadmat('datafile.mat')\r\n",
    "X = data['X']\r\n",
    "\r\n",
    "kmeans = KMeans(X, 3, iters=5000)\r\n",
    "kmeans.fit()\r\n",
    "\r\n",
    "idx, centroids = kmeans.idx, kmeans.centroids\r\n",
    "colors = ['blue', 'red', 'green']\r\n",
    "for i in range(len(centroids)):\r\n",
    "    # plot centroids\r\n",
    "    plt.scatter(centroids[i, 0], centroids[i, 1], c=colors[i], s=100)\r\n",
    "\r\n",
    "    #plot clusters\r\n",
    "    mask = (idx == i)\r\n",
    "    cluster = X[mask, :]\r\n",
    "    plt.scatter(cluster[:, 0], cluster[:, 1], c=colors[i], s=15, alpha=0.25)\r\n",
    "\r\n",
    "print('Inertia: ', kmeans.inertia)"
   ],
   "outputs": [
    {
     "output_type": "stream",
     "name": "stdout",
     "text": [
      "Inertia:  79.4176363371587\n"
     ]
    },
    {
     "output_type": "display_data",
     "data": {
      "image/png": "[encoded data removed]",
      "text/plain": [
       "<Figure size 432x288 with 1 Axes>"
      ]
     },
     "metadata": {
      "needs_background": "light"
     }
    }
   ],
   "metadata": {}
  },
  {
   "cell_type": "code",
   "execution_count": 7,
   "source": [
    "# Elbow plot\r\n",
    "k_trials = [i for i in range(1, 11)]\r\n",
    "trial_inertia = []\r\n",
    "\r\n",
    "for i in k_trials:\r\n",
    "    kmeans = KMeans(X, n_clusters=i, iters=5000)\r\n",
    "    kmeans.fit()\r\n",
    "    trial_inertia.append(kmeans.inertia)\r\n",
    "\r\n",
    "plt.plot(k_trials, trial_inertia)\r\n",
    "plt.xlabel('Number of clusters k')\r\n",
    "plt.ylabel('Inertia')\r\n",
    "plt.title('Elbow plot')"
   ],
   "outputs": [
    {
     "output_type": "execute_result",
     "data": {
      "text/plain": [
       "Text(0.5, 1.0, 'Elbow plot')"
      ]
     },
     "metadata": {},
     "execution_count": 7
    },
    {
     "output_type": "display_data",
     "data": {
      "image/png": "[encoded data removed]",
      "text/plain": [
       "<Figure size 432x288 with 1 Axes>"
      ]
     },
     "metadata": {
      "needs_background": "light"
     }
    }
   ],
   "metadata": {}
  }
 ],
 "metadata": {
  "kernelspec": {
   "name": "python3",
   "display_name": "Python 3.8.5 64-bit ('base': conda)"
  },
  "language_info": {
   "codemirror_mode": {
    "name": "ipython",
    "version": 3
   },
   "file_extension": ".py",
   "mimetype": "text/x-python",
   "name": "python",
   "nbconvert_exporter": "python",
   "pygments_lexer": "ipython3",
   "version": "3.8.5"
  },
  "toc": {
   "base_numbering": 1,
   "nav_menu": {},
   "number_sections": true,
   "sideBar": true,
   "skip_h1_title": false,
   "title_cell": "Table of Contents",
   "title_sidebar": "Contents",
   "toc_cell": false,
   "toc_position": {},
   "toc_section_display": true,
   "toc_window_display": false
  },
  "interpreter": {
   "hash": "9da1c12f6d354dd36d308cb51e3aa17755429bd06bf828d149e4579c59bb3701"
  }
 },
 "nbformat": 4,
 "nbformat_minor": 2
}